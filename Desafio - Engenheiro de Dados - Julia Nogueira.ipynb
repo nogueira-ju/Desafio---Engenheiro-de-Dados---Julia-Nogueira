{
 "cells": [
  {
   "cell_type": "code",
   "execution_count": 1,
   "metadata": {},
   "outputs": [],
   "source": [
    "import pandas as pd\n",
    "import numpy as np"
   ]
  },
  {
   "cell_type": "code",
   "execution_count": 2,
   "metadata": {},
   "outputs": [
    {
     "data": {
      "text/plain": [
       "'\\nLetra a)\\nUm banco de dados NoSQL seria mais recomendado, pois permite armazenamento e recuperação de dados por outras formas que não as relações tabulares usadas em bancos de dados relacionais, como SQL.\\nNoSQL significa “Não apenas SQL”, ou seja, é um tipo de banco de dados que pode manipular e classificar todos os tipos de dados complexos e não estruturados.\\nO NoSQL tende a ser melhor que os bancos relacionais por conseguir lidar com dados semiestruturados e voláteis, além de muito volumosos.\\nUma escalabilidade horizontal pode ser alcançada facilmente, o que significa a adição de mais máquinas, ao contrário do escalamento vertical, em que se utiliza mais energia de uma máquina já existente.\\n'"
      ]
     },
     "execution_count": 2,
     "metadata": {},
     "output_type": "execute_result"
    }
   ],
   "source": [
    "'''\n",
    "Letra a)\n",
    "Um banco de dados NoSQL seria mais recomendado, pois permite armazenamento e recuperação de dados por outras formas que não as relações tabulares usadas em bancos de dados relacionais, como SQL.\n",
    "NoSQL significa “Não apenas SQL”, ou seja, é um tipo de banco de dados que pode manipular e classificar todos os tipos de dados complexos e não estruturados.\n",
    "O NoSQL tende a ser melhor que os bancos relacionais por conseguir lidar com dados semiestruturados e voláteis, além de muito volumosos.\n",
    "Uma escalabilidade horizontal pode ser alcançada facilmente, o que significa a adição de mais máquinas, ao contrário do escalamento vertical, em que se utiliza mais energia de uma máquina já existente.\n",
    "'''"
   ]
  },
  {
   "cell_type": "code",
   "execution_count": null,
   "metadata": {},
   "outputs": [],
   "source": [
    "'''\n",
    "Letra b)\n",
    "Construção das tabelas atracacao_fato e carga_fato.\n",
    "'''"
   ]
  },
  {
   "cell_type": "code",
   "execution_count": 3,
   "metadata": {},
   "outputs": [
    {
     "name": "stdout",
     "output_type": "stream",
     "text": [
      "(232944, 26)\n"
     ]
    }
   ],
   "source": [
    "# --- Construção tabela atracacao_fato ---\n",
    "\n",
    "# Coletando e unindo os dados de Atracacao de 2019, 2020 e 2021\n",
    "Atracacao2019 = pd.read_csv('2019\\\\2019Atracacao.txt', sep=\";\")\n",
    "Atracacao2020 = pd.read_csv('2020\\\\2020Atracacao.txt', sep=\";\")\n",
    "Atracacao2021 = pd.read_csv('2021\\\\2021Atracacao.txt', sep=\";\")\n",
    "Atracacao = pd.concat([Atracacao2019, Atracacao2020, Atracacao2021], axis=0)\n",
    "print(Atracacao.shape)"
   ]
  },
  {
   "cell_type": "code",
   "execution_count": 4,
   "metadata": {},
   "outputs": [
    {
     "name": "stdout",
     "output_type": "stream",
     "text": [
      "(227018, 7)\n"
     ]
    }
   ],
   "source": [
    "# Coletando e unindo os dados de TemposAtracacao de 2019, 2020 e 2021\n",
    "TemposAtracacao2020 = pd.read_csv('2020\\\\2020TemposAtracacao.txt', sep=\";\")\n",
    "TemposAtracacao2019 = pd.read_csv('2019\\\\2019TemposAtracacao.txt', sep=\";\")\n",
    "TemposAtracacao2021 = pd.read_csv('2021\\\\2021TemposAtracacao.txt', sep=\";\")\n",
    "TemposAtracacao = pd.concat([TemposAtracacao2019, TemposAtracacao2020, TemposAtracacao2021], axis=0)\n",
    "print(TemposAtracacao.shape)"
   ]
  },
  {
   "cell_type": "code",
   "execution_count": 5,
   "metadata": {},
   "outputs": [
    {
     "name": "stdout",
     "output_type": "stream",
     "text": [
      "(232944, 32)\n"
     ]
    }
   ],
   "source": [
    "# Unindo todas as colunas de Atracacao e TemposAtracacao pelo IDAtracacao\n",
    "atracacao_fato = pd.merge(Atracacao, TemposAtracacao, how=\"left\", on=\"IDAtracacao\")\n",
    "print(atracacao_fato.shape)"
   ]
  },
  {
   "cell_type": "code",
   "execution_count": 6,
   "metadata": {},
   "outputs": [
    {
     "name": "stdout",
     "output_type": "stream",
     "text": [
      "     IDAtracacao    CDTUP      IDBerco                        Berço  \\\n",
      "0        1036680    BRIBB      IBB0001                      Berço 1   \n",
      "1        1046993    BRIBB      IBB0001                      Berço 1   \n",
      "2        1043780    BRREC      RECA-02                      RECA-02   \n",
      "3        1029466    BRIBB      IBB0001                      Berço 1   \n",
      "4         984964    BRREC      RECA-06                      RECA-06   \n",
      "..           ...      ...          ...                          ...   \n",
      "995      1035206  BRPA067  BRPA0675001                           01   \n",
      "996      1059018    BRSTM      STM00R6  R6 (Rampa Roll-on/Roll-off)   \n",
      "997       985541    BRSTM      STM00R6  R6 (Rampa Roll-on/Roll-off)   \n",
      "998      1031120  BRPA067  BRPA0675001                           01   \n",
      "999      1017997  BRPA067  BRPA0675001                           01   \n",
      "\n",
      "    Porto Atracação Apelido Instalação Portuária Complexo Portuário  \\\n",
      "0          Imbituba                          NaN           Imbituba   \n",
      "1          Imbituba                          NaN           Imbituba   \n",
      "2            Recife          Arrecife dos Navios     Suape - Recife   \n",
      "3          Imbituba                          NaN           Imbituba   \n",
      "4            Recife          Arrecife dos Navios     Suape - Recife   \n",
      "..              ...                          ...                ...   \n",
      "995       Norte Log                          NaN   Não Classificado   \n",
      "996        Santarém                          NaN           Santarém   \n",
      "997        Santarém                          NaN           Santarém   \n",
      "998       Norte Log                          NaN   Não Classificado   \n",
      "999       Norte Log                          NaN   Não Classificado   \n",
      "\n",
      "    Tipo da Autoridade Portuária       Data Atracação         Data Chegada  \\\n",
      "0                  Porto Público  28/10/2019 08:30:00  28/10/2019 08:15:00   \n",
      "1                  Porto Público  26/11/2019 07:40:00  26/11/2019 06:55:00   \n",
      "2                  Porto Público  12/11/2019 08:15:00  12/11/2019 07:00:00   \n",
      "3                  Porto Público  24/09/2019 08:50:00  24/09/2019 08:00:00   \n",
      "4                  Porto Público  09/02/2019 13:45:00  09/02/2019 12:20:00   \n",
      "..                           ...                  ...                  ...   \n",
      "995                Porto Privado  31/10/2019 07:30:00  31/10/2019 07:00:00   \n",
      "996                Porto Público  04/06/2019 08:00:00  04/06/2019 08:00:00   \n",
      "997                Porto Público  11/02/2019 22:10:00  11/02/2019 22:10:00   \n",
      "998                Porto Privado  14/10/2019 07:30:00  14/10/2019 07:00:00   \n",
      "999                Porto Privado  03/08/2019 07:30:00  03/08/2019 07:00:00   \n",
      "\n",
      "     ... SGUF Região Geográfica Nº da Capitania  Nº do IMO  TEsperaAtracacao  \\\n",
      "0    ...   SC               Sul             NaN        NaN  0,24999999994179   \n",
      "1    ...   SC               Sul             NaN        NaN              0,75   \n",
      "2    ...   PE          Nordeste             NaN        NaN   1,2500000000582   \n",
      "3    ...   SC               Sul             NaN        NaN  0,83333333325572   \n",
      "4    ...   PE          Nordeste             NaN        NaN   1,4166666665697   \n",
      "..   ...  ...               ...             ...        ...               ...   \n",
      "995  ...   PA             Norte      0011434899        NaN  0,50000000005821   \n",
      "996  ...   PA             Norte      0011434899        NaN                 0   \n",
      "997  ...   PA             Norte      0011434899        NaN                 0   \n",
      "998  ...   PA             Norte      0011434899        NaN  0,50000000005821   \n",
      "999  ...   PA             Norte      0011434899        NaN  0,50000000005821   \n",
      "\n",
      "       TEsperaInicioOp        TOperacao  TEsperaDesatracacao        TAtracado  \\\n",
      "0                    0                0                    0                3   \n",
      "1                    0                0                    0  2,9333333332906   \n",
      "2                    0                0                    0            78,75   \n",
      "3                    0                0                    0  8,1666666667443   \n",
      "4                    0                0                    0  43,416666666744   \n",
      "..                 ...              ...                  ...              ...   \n",
      "995                  0  11,000000000058     0,99999999994179  14,499999999942   \n",
      "996   0,49999999988358               12     0,16666666668607   12,66666666657   \n",
      "997  0,083333333430346   3,733333333279    0,016666666720994  3,8333333334303   \n",
      "998   0,50000000005821  9,9999999999418     0,99999999994179  11,499999999942   \n",
      "999   0,50000000005821                9     0,49999999988358  9,9999999999418   \n",
      "\n",
      "            TEstadia  \n",
      "0    3,2499999999418  \n",
      "1    3,6833333332906  \n",
      "2    80,000000000058  \n",
      "3                  9  \n",
      "4    44,833333333314  \n",
      "..               ...  \n",
      "995               15  \n",
      "996   12,66666666657  \n",
      "997  3,8333333334303  \n",
      "998               12  \n",
      "999             10,5  \n",
      "\n",
      "[1000 rows x 32 columns]\n"
     ]
    }
   ],
   "source": [
    "# Mostrando formato da tabela atracacao_fato\n",
    "print(atracacao_fato.iloc[:1000,:])"
   ]
  },
  {
   "cell_type": "code",
   "execution_count": 7,
   "metadata": {},
   "outputs": [
    {
     "name": "stderr",
     "output_type": "stream",
     "text": [
      "C:\\Users\\Júlia\\AppData\\Local\\Programs\\Python\\Python37\\lib\\site-packages\\IPython\\core\\interactiveshell.py:3058: DtypeWarning: Columns (12,24) have mixed types. Specify dtype option on import or set low_memory=False.\n",
      "  interactivity=interactivity, compiler=compiler, result=result)\n",
      "C:\\Users\\Júlia\\AppData\\Local\\Programs\\Python\\Python37\\lib\\site-packages\\IPython\\core\\interactiveshell.py:3058: DtypeWarning: Columns (12,17,18,24) have mixed types. Specify dtype option on import or set low_memory=False.\n",
      "  interactivity=interactivity, compiler=compiler, result=result)\n"
     ]
    },
    {
     "name": "stdout",
     "output_type": "stream",
     "text": [
      "(6479692, 27)\n"
     ]
    }
   ],
   "source": [
    "# --- Construção tabeça carga_fato ---\n",
    "\n",
    "# Coletando e unindo os dados de Carga de 2019, 2020 e 2021\n",
    "Carga2019 = pd.read_csv('2019\\\\2019Carga.txt', sep=\";\")\n",
    "Carga2020 = pd.read_csv('2020\\\\2020Carga.txt', sep=\";\")\n",
    "Carga2021 = pd.read_csv('2021\\\\2021Carga.txt', sep=\";\")\n",
    "Carga = pd.concat([Carga2019, Carga2020, Carga2021], axis=0)\n",
    "print(Carga.shape)"
   ]
  },
  {
   "cell_type": "code",
   "execution_count": 8,
   "metadata": {},
   "outputs": [
    {
     "name": "stdout",
     "output_type": "stream",
     "text": [
      "(6479929, 31)\n"
     ]
    }
   ],
   "source": [
    "# Unindo todas as colunas de Carga com as colunas 'Ano','Mes','Porto Atracação' e 'SGUF' de Atracacao pelo IDAtracacao\n",
    "Atracacao_carga = Atracacao[['IDAtracacao','Ano','Mes','Porto Atracação','SGUF']].copy()\n",
    "pre_carga_fato = pd.merge(Carga, Atracacao_carga, how=\"left\", on=\"IDAtracacao\")\n",
    "print(pre_carga_fato.shape)"
   ]
  },
  {
   "cell_type": "code",
   "execution_count": 9,
   "metadata": {},
   "outputs": [
    {
     "name": "stderr",
     "output_type": "stream",
     "text": [
      "C:\\Users\\Júlia\\AppData\\Local\\Programs\\Python\\Python37\\lib\\site-packages\\IPython\\core\\interactiveshell.py:3058: DtypeWarning: Columns (1) have mixed types. Specify dtype option on import or set low_memory=False.\n",
      "  interactivity=interactivity, compiler=compiler, result=result)\n"
     ]
    },
    {
     "name": "stdout",
     "output_type": "stream",
     "text": [
      "(11294917, 3)\n"
     ]
    }
   ],
   "source": [
    "# Coletando e unindo os dados de Carga_Conteinerizada de 2019, 2020 e 2021\n",
    "Carga_Conteneirizada2019 = pd.read_csv('2019\\\\2019Carga_Conteinerizada.txt', sep=\";\")\n",
    "Carga_Conteneirizada2020 = pd.read_csv('2020\\\\2020Carga_Conteinerizada.txt', sep=\";\")\n",
    "Carga_Conteneirizada2021 = pd.read_csv('2021\\\\2021Carga_Conteinerizada.txt', sep=\";\")\n",
    "Carga_Conteneirizada = pd.concat([Carga_Conteneirizada2019, Carga_Conteneirizada2020, Carga_Conteneirizada2021], axis=0)\n",
    "print(Carga_Conteneirizada.shape)"
   ]
  },
  {
   "cell_type": "code",
   "execution_count": 10,
   "metadata": {},
   "outputs": [
    {
     "name": "stdout",
     "output_type": "stream",
     "text": [
      "(12324151, 4)\n"
     ]
    }
   ],
   "source": [
    "# Unindo a coluna 'VLPesoCargaBruta' de Carga com a coluna 'VLPesoCargaConteinerizada' de Carga_Conteneirizada pelo IDCarga\n",
    "Peso_Conteinerizada = Carga_Conteneirizada[['IDCarga','VLPesoCargaConteinerizada']].copy()\n",
    "Peso_todas = Carga[['IDCarga','VLPesoCargaBruta','Carga Geral Acondicionamento']].copy()\n",
    "Peso_atualizado = pd.merge(Peso_todas, Peso_Conteinerizada, how=\"left\", on=\"IDCarga\")\n",
    "print(Peso_atualizado.shape)"
   ]
  },
  {
   "cell_type": "code",
   "execution_count": 11,
   "metadata": {},
   "outputs": [],
   "source": [
    "# Criando nova coluna 'Peso líquido da carga' que recebe o valor de 'VLPesoCargaConteinerizada' se a carga for conteneirizada, e se não for recebe o valor de 'VLPesoCargaBruta'\n",
    "Peso_atualizado['Peso líquido da carga'] = np.where(Peso_atualizado['Carga Geral Acondicionamento'] == 'Conteinerizada', Peso_atualizado['VLPesoCargaConteinerizada'], Peso_atualizado['VLPesoCargaBruta'])"
   ]
  },
  {
   "cell_type": "code",
   "execution_count": 12,
   "metadata": {},
   "outputs": [
    {
     "name": "stdout",
     "output_type": "stream",
     "text": [
      "(12324388, 32)\n"
     ]
    }
   ],
   "source": [
    "# Copiando a nova coluna 'Peso líquido da carga' para carga_fato\n",
    "Peso_liquido = Peso_atualizado[['IDCarga','Peso líquido da carga']].copy()\n",
    "carga_fato = pd.merge(pre_carga_fato, Peso_liquido, how=\"left\", on=\"IDCarga\")\n",
    "print(carga_fato.shape)"
   ]
  },
  {
   "cell_type": "code",
   "execution_count": 13,
   "metadata": {},
   "outputs": [
    {
     "name": "stdout",
     "output_type": "stream",
     "text": [
      "(12324151, 4)\n"
     ]
    }
   ],
   "source": [
    "# Unindo a coluna 'CDMercadoriaConteinerizada' de Carga_Conteinerizada com a coluna 'CDMercadoria' de Carga pelo IDCarga\n",
    "CD_Conteinerizada = Carga_Conteneirizada[['IDCarga','CDMercadoriaConteinerizada']].copy()\n",
    "CD_todas = Carga[['IDCarga','CDMercadoria','Carga Geral Acondicionamento']].copy()\n",
    "CD_atualizada = pd.merge(CD_todas, CD_Conteinerizada, how=\"left\", on=\"IDCarga\")\n",
    "print(CD_atualizada.shape)"
   ]
  },
  {
   "cell_type": "code",
   "execution_count": 14,
   "metadata": {},
   "outputs": [],
   "source": [
    "# Ajustando a coluna 'CDMercadoria' que recebe o valor de 'CDMercadoriaConteinerizada' se a carga for conteneirizada, e se não for recebe o valor de 'CDMercadoria'\n",
    "CD_atualizada['CDMercadoria'] = np.where(CD_atualizada['Carga Geral Acondicionamento'] == 'Conteinerizada', CD_atualizada['CDMercadoriaConteinerizada'], CD_atualizada['CDMercadoria'])"
   ]
  },
  {
   "cell_type": "code",
   "execution_count": 15,
   "metadata": {},
   "outputs": [
    {
     "name": "stdout",
     "output_type": "stream",
     "text": [
      "(12324388, 32)\n"
     ]
    }
   ],
   "source": [
    "# Atualizando a coluna 'CDMercadoria', agora corrigida, de carga_fato, já com o tamanho correto\n",
    "carga_fato['CDMercadoria'] = CD_atualizada['CDMercadoria']\n",
    "print(carga_fato.shape)"
   ]
  },
  {
   "cell_type": "code",
   "execution_count": 16,
   "metadata": {},
   "outputs": [
    {
     "name": "stdout",
     "output_type": "stream",
     "text": [
      "      IDCarga  IDAtracacao   Origem Destino CDMercadoria  \\\n",
      "0    23338046       967278  BRRO022   BRMAO         1507   \n",
      "1    23338047       967278  BRRO022   BRMAO         1507   \n",
      "2    23338048       967278  BRRO022   BRMAO         1507   \n",
      "3    23338049       967278  BRRO022   BRMAO         4412   \n",
      "4    23338050       967278  BRRO022   BRMAO         1507   \n",
      "..        ...          ...      ...     ...          ...   \n",
      "995  23347561       968529  BRSP008   BRVIX         4202   \n",
      "996  23347561       968529  BRSP008   BRVIX         5208   \n",
      "997  23347561       968529  BRSP008   BRVIX         5211   \n",
      "998  23347561       968529  BRSP008   BRVIX         5402   \n",
      "999  23347561       968529  BRSP008   BRVIX         5309   \n",
      "\n",
      "                                Tipo Operação da Carga  \\\n",
      "0                                             Interior   \n",
      "1                                             Interior   \n",
      "2                                             Interior   \n",
      "3                                             Interior   \n",
      "4                                             Interior   \n",
      "..                                                 ...   \n",
      "995  Longo Curso Importação com Baldeação de Carga ...   \n",
      "996  Longo Curso Importação com Baldeação de Carga ...   \n",
      "997  Longo Curso Importação com Baldeação de Carga ...   \n",
      "998  Longo Curso Importação com Baldeação de Carga ...   \n",
      "999  Longo Curso Importação com Baldeação de Carga ...   \n",
      "\n",
      "    Carga Geral Acondicionamento ConteinerEstado Tipo Navegação  \\\n",
      "0                          Solta             NaN       Interior   \n",
      "1                          Solta             NaN       Interior   \n",
      "2                          Solta             NaN       Interior   \n",
      "3                          Solta             NaN       Interior   \n",
      "4                          Solta             NaN       Interior   \n",
      "..                           ...             ...            ...   \n",
      "995               Conteinerizada           Cheio      Cabotagem   \n",
      "996               Conteinerizada           Cheio      Cabotagem   \n",
      "997               Conteinerizada           Cheio      Cabotagem   \n",
      "998               Conteinerizada           Cheio      Cabotagem   \n",
      "999               Conteinerizada           Cheio      Cabotagem   \n",
      "\n",
      "    FlagAutorizacao  ...     Natureza da Carga     Sentido  TEU  QTCarga  \\\n",
      "0                 S  ...           Carga Geral  Embarcados    0      384   \n",
      "1                 S  ...           Carga Geral  Embarcados    0       32   \n",
      "2                 S  ...           Carga Geral  Embarcados    0       30   \n",
      "3                 S  ...           Carga Geral  Embarcados    0       24   \n",
      "4                 S  ...           Carga Geral  Embarcados    0       32   \n",
      "..              ...  ...                   ...         ...  ...      ...   \n",
      "995               S  ...  Carga Conteinerizada  Embarcados  240      120   \n",
      "996               S  ...  Carga Conteinerizada  Embarcados  240      120   \n",
      "997               S  ...  Carga Conteinerizada  Embarcados  240      120   \n",
      "998               S  ...  Carga Conteinerizada  Embarcados  240      120   \n",
      "999               S  ...  Carga Conteinerizada  Embarcados  240      120   \n",
      "\n",
      "     VLPesoCargaBruta   Ano  Mes            Porto Atracação SGUF  \\\n",
      "0             330,905  2019  jan  F. H. de Oliveira Peixoto   RO   \n",
      "1              27,552  2019  jan  F. H. de Oliveira Peixoto   RO   \n",
      "2              26,036  2019  jan  F. H. de Oliveira Peixoto   RO   \n",
      "3                 672  2019  jan  F. H. de Oliveira Peixoto   RO   \n",
      "4              27,552  2019  jan  F. H. de Oliveira Peixoto   RO   \n",
      "..                ...   ...  ...                        ...  ...   \n",
      "995           2126,03  2019  jan            DP World Santos   SP   \n",
      "996           2126,03  2019  jan            DP World Santos   SP   \n",
      "997           2126,03  2019  jan            DP World Santos   SP   \n",
      "998           2126,03  2019  jan            DP World Santos   SP   \n",
      "999           2126,03  2019  jan            DP World Santos   SP   \n",
      "\n",
      "    Peso líquido da carga  \n",
      "0                 330,905  \n",
      "1                  27,552  \n",
      "2                  26,036  \n",
      "3                     672  \n",
      "4                  27,552  \n",
      "..                    ...  \n",
      "995                 22,02  \n",
      "996                 24,44  \n",
      "997                  25,8  \n",
      "998                  22,4  \n",
      "999                 25,81  \n",
      "\n",
      "[1000 rows x 32 columns]\n"
     ]
    }
   ],
   "source": [
    "# Mostrando formato da tabela carga_fato\n",
    "print(carga_fato.iloc[:1000,:])"
   ]
  },
  {
   "cell_type": "code",
   "execution_count": null,
   "metadata": {},
   "outputs": [],
   "source": [
    "'''\n",
    "Letra c)\n",
    "Escrevendo a query em SQL para o cliente consultar os dados pelo Excel consultando a tabela atracacao_fato.\n",
    "\n",
    "SELECT\n",
    "\n",
    "SGUF as Localidade,\n",
    "COUNT (IDAtracacao) as Número de Atracações,\n",
    "AVG(TEsperaAtracacao) as Tempo de espera médio,\n",
    "AVG(TAtracado) as Tempo atracado médio,\n",
    "Mês,\n",
    "Ano\n",
    "\n",
    "FROM atracacao_fato\n",
    "WHERE Ano != '2019'\n",
    "\n",
    "GROUP BY Ano, Mês\n",
    "\n",
    "UPDATE SET Localidade = 'Brasil'\n",
    "\n",
    "UNION\n",
    "\n",
    "SELECT \n",
    "\n",
    "Região Geográfica as Localidade,\n",
    "COUNT (IDAtracacao) as Número de Atracações,\n",
    "AVG(TEsperaAtracacao) as Tempo de espera médio,\n",
    "AVG(TAtracado) as Tempo atracado médio,\n",
    "Mês,\n",
    "Ano\n",
    "\n",
    "FROM atracacao_fato\n",
    "WHERE Região Geográfica == 'Nordeste' AND Ano != '2019'\n",
    "\n",
    "GROUP BY Ano, Mês\n",
    "\n",
    "UNION\n",
    "\n",
    "SELECT \n",
    "\n",
    "UF as Localidade,\n",
    "COUNT (IDAtracacao) as Número de Atracações,\n",
    "AVG(TEsperaAtracacao) as Tempo de espera médio,\n",
    "AVG(TAtracado) as Tempo atracado médio,\n",
    "Mês,\n",
    "Ano\n",
    "\n",
    "FROM atracacao_fato\n",
    "WHERE SGUF == 'CE' AND Ano != '2019'\n",
    "\n",
    "GROUP BY Ano, Mês;\n",
    "'''"
   ]
  }
 ],
 "metadata": {
  "interpreter": {
   "hash": "7c2b341bc3b18b2f0f6420bb99536e5c4cfa1181094719b122fae93675793f92"
  },
  "kernelspec": {
   "display_name": "Python 3.7.5 64-bit (system)",
   "language": "python",
   "name": "python3"
  },
  "language_info": {
   "codemirror_mode": {
    "name": "ipython",
    "version": 3
   },
   "file_extension": ".py",
   "mimetype": "text/x-python",
   "name": "python",
   "nbconvert_exporter": "python",
   "pygments_lexer": "ipython3",
   "version": "3.7.5"
  },
  "orig_nbformat": 4
 },
 "nbformat": 4,
 "nbformat_minor": 2
}
